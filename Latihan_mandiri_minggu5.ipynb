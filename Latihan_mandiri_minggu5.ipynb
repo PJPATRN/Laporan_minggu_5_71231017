{
 "cells": [
  {
   "cell_type": "code",
   "execution_count": 104,
   "metadata": {},
   "outputs": [
    {
     "name": "stdout",
     "output_type": "stream",
     "text": [
      "1\n",
      "1\n",
      "2\n",
      "3\n",
      "5\n",
      "8\n",
      "13\n",
      "21\n",
      "34\n",
      "55\n"
     ]
    }
   ],
   "source": [
    "#Fibonacci\n",
    "nilai1 = int(input(\"Nilai awal\"))\n",
    "nilai2 = int(input(\"Nilai akhir\"))\n",
    "awal = 1\n",
    "for i in range(nilai1,nilai2+1):\n",
    "    print(nilai1)\n",
    "    jumlah = awal + nilai1\n",
    "    nilai1 = awal\n",
    "    awal = jumlah\n",
    "    i += 1\n"
   ]
  },
  {
   "cell_type": "code",
   "execution_count": 106,
   "metadata": {},
   "outputs": [
    {
     "name": "stdout",
     "output_type": "stream",
     "text": [
      "Nama saya Paulus 0\n",
      "Nama saya Paulus 10\n",
      "Nama saya Paulus 20\n",
      "Nama saya Paulus 30\n",
      "Nama saya Paulus 40\n",
      "Nama saya Paulus 50\n",
      "Nama saya Paulus 60\n",
      "Nama saya Paulus 70\n",
      "Nama saya Paulus 80\n",
      "Nama saya Paulus 90\n"
     ]
    }
   ],
   "source": [
    "for i in range(0,100,10):           #for i in range(start, stop, step)\n",
    "    print(f\"Nama saya Paulus {i}\")  #output"
   ]
  },
  {
   "cell_type": "code",
   "execution_count": 115,
   "metadata": {},
   "outputs": [
    {
     "name": "stdout",
     "output_type": "stream",
     "text": [
      "Nama saya Paulus 100\n",
      "Nama saya Paulus 90\n",
      "Nama saya Paulus 80\n",
      "Nama saya Paulus 70\n",
      "Nama saya Paulus 60\n",
      "Nama saya Paulus 50\n",
      "Nama saya Paulus 40\n",
      "Nama saya Paulus 30\n",
      "Nama saya Paulus 20\n",
      "Nama saya Paulus 10\n"
     ]
    }
   ],
   "source": [
    "for i in range(100,0,-10):           #for i in range(start, stop, step)\n",
    "    print(f\"Nama saya Paulus {i}\")  #output"
   ]
  },
  {
   "cell_type": "code",
   "execution_count": 163,
   "metadata": {},
   "outputs": [
    {
     "name": "stdout",
     "output_type": "stream",
     "text": [
      "Hari ini adalah hari ke - 1\n",
      "Besok adalah hari ke - 2\n",
      "Hari ini adalah hari ke - 2\n",
      "Besok adalah hari ke - 3\n"
     ]
    }
   ],
   "source": [
    "hari_ke = int(input(\"Hari ke berapa? : \"))          #ini adalah batas awal dari user\n",
    "batas_hari = int(input(\"Sampai hari apa? : \"))      #ini adalah batas akhir dari user\n",
    "nilai_hari = 0                                      #sebagai variable sementara\n",
    "while hari_ke <= batas_hari:                        #proses looping while\n",
    "    print(f\"Hari ini adalah hari ke - {hari_ke}\")   #output hari awal\n",
    "    hari_ke += 1                                    #proses hari selanjutnya\n",
    "    nilai_hari = hari_ke                            #proses memasukkan hasil proses hari selanjutnya ke dalam sebuah variable\n",
    "    print(f\"Besok adalah hari ke - {nilai_hari}\")   #output hari selanjutnya\n",
    "    "
   ]
  },
  {
   "cell_type": "code",
   "execution_count": 194,
   "metadata": {},
   "outputs": [
    {
     "name": "stdout",
     "output_type": "stream",
     "text": [
      "angka ke - 1\n",
      "angka ke - 9\n",
      "angka ke - 11\n"
     ]
    }
   ],
   "source": [
    "for i in range(1,15, 2):\n",
    "    if i in [3,5,7]:\n",
    "        continue\n",
    "    if i == 13:\n",
    "        break\n",
    "    print(f\"angka ke - {i}\")"
   ]
  },
  {
   "cell_type": "code",
   "execution_count": 198,
   "metadata": {},
   "outputs": [
    {
     "name": "stdout",
     "output_type": "stream",
     "text": [
      "1\n",
      "3\n",
      "5\n",
      "7\n",
      "9\n",
      "11\n",
      "13\n"
     ]
    }
   ],
   "source": [
    "for i in range (1,15):  #penetapan batas bawah dan batas atas program\n",
    "    if i % 2 == 0:      #kondisi jika i % 2 == 0\n",
    "        continue        #jika kondisi di atas benar, maka program akan melewati kondisi tersebut\n",
    "    print(i)            #output yang akan dikeluarkan ketika menyadari bahwa kondisi 'True' harus dilewati"
   ]
  },
  {
   "cell_type": "markdown",
   "metadata": {},
   "source": [
    "Latihan 5.1"
   ]
  },
  {
   "cell_type": "code",
   "execution_count": 219,
   "metadata": {},
   "outputs": [
    {
     "name": "stdout",
     "output_type": "stream",
     "text": [
      "1 ---> 5\n",
      "2 ---> 10\n",
      "3 ---> 15\n",
      "4 ---> 20\n",
      "5 ---> 25\n"
     ]
    }
   ],
   "source": [
    "def perkalian(nilai1, nilai2):\n",
    "    hasil = 0 \n",
    "    for i in range(nilai2):\n",
    "        hasil += nilai1\n",
    "        print(f\"{i+1} ---> {hasil}\")\n",
    "    return hasil\n",
    "nilai1 = int(input(\"Masukkan nilai pertama anda \\n >>>\"))\n",
    "nilai2 = int(input(\"Masukkan nilai kedua anda \\n >>>\"))\n",
    "total = perkalian(nilai1,nilai2)"
   ]
  },
  {
   "cell_type": "markdown",
   "metadata": {},
   "source": [
    "Latihan 5.2"
   ]
  },
  {
   "cell_type": "code",
   "execution_count": 221,
   "metadata": {},
   "outputs": [
    {
     "name": "stdout",
     "output_type": "stream",
     "text": [
      "bawah = 10, atas = 50. Hasil: [49, 47, 45, 43, 41, 39, 37, 35, 33, 31, 29, 27, 25, 23, 21, 19, 17, 15, 13, 11]\n"
     ]
    }
   ],
   "source": [
    "def ganjil(bawah,atas):\n",
    "    bilangan_ganjil = []\n",
    "\n",
    "    if atas < bawah :\n",
    "        for bilangan in range (bawah, atas - 1, -1):\n",
    "            if bilangan %2 != 0:\n",
    "                bilangan_ganjil.append(bilangan)\n",
    "    else:\n",
    "        for bilangan in range(bawah,atas + 1):\n",
    "            if bilangan % 2 != 0:\n",
    "                bilangan_ganjil.append(bilangan)\n",
    "    return bilangan_ganjil\n",
    "\n",
    "atas = int(input(\"Mau dimulai dari mana? \\n >>>\"))\n",
    "bawah = int(input(\"Mau selesai di mana? \\n >>>\"))\n",
    "hasil = ganjil(atas,bawah)\n",
    "\n",
    "print(f\"bawah = {bawah}, atas = {atas}. Hasil: {hasil}\")"
   ]
  },
  {
   "cell_type": "markdown",
   "metadata": {},
   "source": [
    "Latihan 5.3"
   ]
  },
  {
   "cell_type": "code",
   "execution_count": 222,
   "metadata": {},
   "outputs": [
    {
     "name": "stdout",
     "output_type": "stream",
     "text": [
      "IPS yang didapatkan: 2.80\n"
     ]
    }
   ],
   "source": [
    "def IPS(total_matkul):\n",
    "    total_sks = 0\n",
    "    total_nilai = 0\n",
    "\n",
    "    for nilai_ke in range(1,total_matkul + 1):\n",
    "        huruf = str(input(f\"Masukkan nilai ke - {nilai_ke} dalam bentuk huruf (A,B,C,D)\\n >>> \")).upper()\n",
    "        try:\n",
    "            if huruf == 'A':\n",
    "                nilai = 4\n",
    "            elif huruf == 'B':\n",
    "                nilai = 3\n",
    "            elif huruf == 'C':\n",
    "                nilai == 2\n",
    "            elif huruf == 'D':\n",
    "                nilai = 1\n",
    "            else:\n",
    "                print(f\"Maaf, tidak ada nilai untuk karakter {huruf}\\nPerhitungan error\")\n",
    "                break\n",
    "        except:\n",
    "            print(f\"Maaf, tidak ada nilai untuk karakter {huruf}\\nPerhitungan error\")\n",
    "            break\n",
    "\n",
    "        sks = 3\n",
    "        total_sks += sks\n",
    "        total_nilai += nilai * sks\n",
    "    ips = total_nilai / total_sks\n",
    "    return ips\n",
    "total_matkul = int(input(\"Berapa total matkul anda? \\n >>>\"))\n",
    "hasil_IPS = IPS(total_matkul)\n",
    "print(f\"IPS yang didapatkan: {hasil_IPS:.2f}\")"
   ]
  }
 ],
 "metadata": {
  "kernelspec": {
   "display_name": "Python 3",
   "language": "python",
   "name": "python3"
  },
  "language_info": {
   "codemirror_mode": {
    "name": "ipython",
    "version": 3
   },
   "file_extension": ".py",
   "mimetype": "text/x-python",
   "name": "python",
   "nbconvert_exporter": "python",
   "pygments_lexer": "ipython3",
   "version": "3.11.5"
  }
 },
 "nbformat": 4,
 "nbformat_minor": 2
}
